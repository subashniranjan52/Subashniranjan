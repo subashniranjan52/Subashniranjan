{
  "nbformat": 4,
  "nbformat_minor": 0,
  "metadata": {
    "colab": {
      "provenance": [],
      "include_colab_link": true
    },
    "kernelspec": {
      "name": "python3",
      "display_name": "Python 3"
    },
    "language_info": {
      "name": "python"
    }
  },
  "cells": [
    {
      "cell_type": "markdown",
      "metadata": {
        "id": "view-in-github",
        "colab_type": "text"
      },
      "source": [
        "<a href=\"https://colab.research.google.com/github/subashniranjan52/Subashniranjan/blob/main/Lyricsdetector.ipynb\" target=\"_parent\"><img src=\"https://colab.research.google.com/assets/colab-badge.svg\" alt=\"Open In Colab\"/></a>"
      ]
    },
    {
      "cell_type": "code",
      "execution_count": null,
      "metadata": {
        "id": "jryon8uvn7No"
      },
      "outputs": [],
      "source": [
        "import gradio as gr\n",
        "import pandas as pd\n",
        "from fuzzywuzzy import process\n",
        "\n",
        "# Sample Open-Source Song Lyrics Dataset (Can Be Replaced with a Larger Dataset)\n",
        "data = {\n",
        "    \"song\": [\n",
        "        \"Shape of You\", \"Someone Like You\", \"Blinding Lights\",\n",
        "        \"Bohemian Rhapsody\", \"Let It Be\"\n",
        "    ],\n",
        "    \"lyrics\": [\n",
        "        \"I'm in love with the shape of you\",\n",
        "        \"Never mind, I'll find someone like you\",\n",
        "        \"I said, ooh, I'm blinded by the lights\",\n",
        "        \"Is this the real life? Is this just fantasy?\",\n",
        "        \"When I find myself in times of trouble, Mother Mary comes to me\"\n",
        "    ]\n",
        "}\n",
        "\n",
        "# Convert to DataFrame\n",
        "df = pd.DataFrame(data)\n",
        "\n",
        "# Function to Guess Song\n",
        "def guess_song(lyrics_input):\n",
        "    match, score = process.extractOne(lyrics_input, df[\"lyrics\"])\n",
        "    if score > 50:  # Threshold for a good match\n",
        "        song_name = df.loc[df[\"lyrics\"] == match, \"song\"].values[0]\n",
        "        return f\"🎶 I think the song is: **{song_name}**\"\n",
        "    else:\n",
        "        return \"❌ Sorry, I couldn't find a matching song.\"\n",
        "\n",
        "# Create Gradio Interface\n",
        "iface = gr.Interface(\n",
        "    fn=guess_song,\n",
        "    inputs=gr.Textbox(label=\"Enter Lyrics\"),\n",
        "    outputs=\"text\",\n",
        "    title=\"Lyrics-Based Song Guessing Chatbot\",\n",
        "    description=\"Type a line of lyrics, and I'll try to guess the song!\"\n",
        ")\n",
        "\n",
        "# Launch Gradio App\n",
        "iface.launch()"
      ]
    }
  ]
}